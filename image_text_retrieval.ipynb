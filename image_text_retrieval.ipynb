{
 "cells": [
  {
   "cell_type": "markdown",
   "metadata": {},
   "source": [
    "# Image-text retrieval for museum exhibits"
   ]
  },
  {
   "cell_type": "markdown",
   "metadata": {
    "id": "FH0ZYdNyQzug"
   },
   "source": [
    "## Загрузка библиотек"
   ]
  },
  {
   "cell_type": "code",
   "execution_count": 1,
   "metadata": {
    "id": "BwNGqMidQiRi"
   },
   "outputs": [],
   "source": [
    "import pandas as pd\n",
    "import numpy as np\n",
    "import matplotlib.pyplot as plt\n",
    "\n",
    "from sklearn.metrics import r2_score\n",
    "\n",
    "import os\n",
    "import random\n",
    "from tqdm.auto import tqdm, trange\n",
    "\n",
    "import torch\n",
    "import torch.nn as nn\n",
    "import torch.nn.functional as F\n",
    "import torch.optim as optim\n",
    "#from torch.autograd import Variable\n",
    "from torch.utils.data import Dataset, DataLoader\n",
    "\n",
    "from PIL import Image\n",
    "from transformers import AutoTokenizer, AutoModel, ViTModel, ViTFeatureExtractor\n",
    "\n",
    "%matplotlib inline"
   ]
  },
  {
   "cell_type": "code",
   "execution_count": 2,
   "metadata": {},
   "outputs": [],
   "source": [
    "def set_seed(SEED):\n",
    "    torch.manual_seed(SEED) \n",
    "    torch.cuda.manual_seed_all(SEED) \n",
    "    torch.backends.cudnn.deterministic = True \n",
    "    torch.backends.cudnn.benchmark = False \n",
    "    random.seed(SEED)\n",
    "    np.random.seed(SEED) \n",
    "    os.environ['PYTHONHASHSEED'] = str(SEED)\n",
    "set_seed(42)"
   ]
  },
  {
   "cell_type": "code",
   "execution_count": 3,
   "metadata": {},
   "outputs": [
    {
     "data": {
      "text/plain": [
       "device(type='cuda')"
      ]
     },
     "execution_count": 3,
     "metadata": {},
     "output_type": "execute_result"
    }
   ],
   "source": [
    "device = torch.device('cuda' if torch.cuda.is_available() else 'cpu')\n",
    "device"
   ]
  },
  {
   "cell_type": "markdown",
   "metadata": {
    "id": "GywlangPRAEm"
   },
   "source": [
    "## Рассмотрим датасет по ближе"
   ]
  },
  {
   "cell_type": "code",
   "execution_count": 4,
   "metadata": {
    "id": "3TZUcuZ33rM5"
   },
   "outputs": [],
   "source": [
    "df_train = pd.read_csv(\"train.csv\")\n",
    "df_test = pd.read_csv(\"test.csv\")"
   ]
  },
  {
   "cell_type": "code",
   "execution_count": 5,
   "metadata": {
    "colab": {
     "base_uri": "https://localhost:8080/"
    },
    "id": "IPLa558cu9EL",
    "outputId": "8952ee63-b145-46cc-c8df-946717f21c7a"
   },
   "outputs": [
    {
     "name": "stdout",
     "output_type": "stream",
     "text": [
      "В обучающей выборке 2098 запросов\n",
      "В обучающей выборке 2098 изображений\n",
      "В тестовой выборке 900 запросов\n",
      "В тестовой выборке 900 изображений\n"
     ]
    }
   ],
   "source": [
    "print(\"В обучающей выборке {} запросов\".format(len(df_train)))\n",
    "print(\"В обучающей выборке {} изображений\".format(len(os.listdir(\"train\"))))\n",
    "print(\"В тестовой выборке {} запросов\".format(len(df_test)))\n",
    "print(\"В тестовой выборке {} изображений\".format(len(os.listdir(\"test\"))))"
   ]
  },
  {
   "cell_type": "code",
   "execution_count": 5,
   "metadata": {
    "colab": {
     "base_uri": "https://localhost:8080/",
     "height": 143
    },
    "id": "gvcl_K3FQ-os",
    "outputId": "c5d10284-135d-4ee4-b73d-da0d4af8e04f"
   },
   "outputs": [
    {
     "data": {
      "text/html": [
       "<div>\n",
       "<style scoped>\n",
       "    .dataframe tbody tr th:only-of-type {\n",
       "        vertical-align: middle;\n",
       "    }\n",
       "\n",
       "    .dataframe tbody tr th {\n",
       "        vertical-align: top;\n",
       "    }\n",
       "\n",
       "    .dataframe thead th {\n",
       "        text-align: right;\n",
       "    }\n",
       "</style>\n",
       "<table border=\"1\" class=\"dataframe\">\n",
       "  <thead>\n",
       "    <tr style=\"text-align: right;\">\n",
       "      <th></th>\n",
       "      <th>id</th>\n",
       "      <th>description</th>\n",
       "      <th>object_img</th>\n",
       "    </tr>\n",
       "  </thead>\n",
       "  <tbody>\n",
       "    <tr>\n",
       "      <th>0</th>\n",
       "      <td>520</td>\n",
       "      <td>Фотография. Г. Пермь. Здание горисполкома.  ПО...</td>\n",
       "      <td>799</td>\n",
       "    </tr>\n",
       "    <tr>\n",
       "      <th>1</th>\n",
       "      <td>1817</td>\n",
       "      <td>Фотонегатив пленочный. Труппа театра «У моста»...</td>\n",
       "      <td>854</td>\n",
       "    </tr>\n",
       "    <tr>\n",
       "      <th>2</th>\n",
       "      <td>188</td>\n",
       "      <td>Изразец гладкий расписной \"пермский\"- карниз А...</td>\n",
       "      <td>1794</td>\n",
       "    </tr>\n",
       "  </tbody>\n",
       "</table>\n",
       "</div>"
      ],
      "text/plain": [
       "     id                                        description  object_img\n",
       "0   520  Фотография. Г. Пермь. Здание горисполкома.  ПО...         799\n",
       "1  1817  Фотонегатив пленочный. Труппа театра «У моста»...         854\n",
       "2   188  Изразец гладкий расписной \"пермский\"- карниз А...        1794"
      ]
     },
     "execution_count": 5,
     "metadata": {},
     "output_type": "execute_result"
    }
   ],
   "source": [
    "df_train.head()"
   ]
  },
  {
   "cell_type": "code",
   "execution_count": 8,
   "metadata": {
    "colab": {
     "base_uri": "https://localhost:8080/"
    },
    "id": "SzAA5TKYfVey",
    "outputId": "70018c59-3721-4efd-ebe1-a7d6d98a9459"
   },
   "outputs": [
    {
     "name": "stdout",
     "output_type": "stream",
     "text": [
      "<class 'pandas.core.frame.DataFrame'>\n",
      "RangeIndex: 2098 entries, 0 to 2097\n",
      "Data columns (total 3 columns):\n",
      " #   Column       Non-Null Count  Dtype \n",
      "---  ------       --------------  ----- \n",
      " 0   id           2098 non-null   int64 \n",
      " 1   description  2098 non-null   object\n",
      " 2   object_img   2098 non-null   int64 \n",
      "dtypes: int64(2), object(1)\n",
      "memory usage: 49.3+ KB\n"
     ]
    }
   ],
   "source": [
    "df_train.info()"
   ]
  },
  {
   "cell_type": "markdown",
   "metadata": {},
   "source": [
    "## Построение датасета"
   ]
  },
  {
   "cell_type": "code",
   "execution_count": 7,
   "metadata": {},
   "outputs": [],
   "source": [
    "class Text2ImageDataset(Dataset):\n",
    "    def __init__(self, train_df, test_df):\n",
    "        \"\"\"\n",
    "        Аргументы:\n",
    "            train_df, test_df (pd.DataFrame): тренировочный и тестовый наборы данных\n",
    "        \"\"\"\n",
    "        self.val_df = train_df.sample(frac=0.1, random_state=42)\n",
    "        self.val_size = len(self.val_df)\n",
    "        \n",
    "        self.train_df = train_df.drop(self.val_df.index)\n",
    "        self.train_size = len(self.train_df)\n",
    "        self.test_df = test_df\n",
    "        self.test_size = len(self.test_df)\n",
    "\n",
    "        self._lookup_dict = {'train': (self.train_df, self.train_size),\n",
    "                             'val': (self.val_df, self.val_size),\n",
    "                             'test': (self.test_df, self.test_size)}\n",
    "\n",
    "        self.set_split('train') \n",
    "    \n",
    "    @classmethod\n",
    "    def load_dataset(cls, tokenizer, feature_extractor, \n",
    "                     img_model, txt_model):\n",
    "        \"\"\"Загрузка данных датасета\n",
    "        Аргументы:\n",
    "            tokenizer: экземпляр векторизатора текстовых данных\n",
    "            feature_extractor: экземпляр векторизатора изображений\n",
    "            img_model: модель-трансформер для обработки изображений\n",
    "            txt_model: модель-трансформер для обработки текстовых данных\n",
    "        Возвращает:\n",
    "            экземпляр Text2ImageDataset\n",
    "        \"\"\"\n",
    "        train_df = pd.read_csv(\"train.csv\")\n",
    "        test_df = pd.read_csv(\"test.csv\")\n",
    "        \n",
    "        #векторизация изображений\n",
    "        img_vecs = []\n",
    "        img_model.eval()\n",
    "        img_model.to(device)\n",
    "        for img_id in train_df['object_img']:\n",
    "            img = Image.open(\"train/{}.png\".format(img_id))\n",
    "            img = img.convert('RGB')\n",
    "            encoding = feature_extractor(images=img, return_tensors='pt').to(device)\n",
    "            img_vecs.append(\n",
    "                np.squeeze(np.array(\n",
    "                    img_model(**encoding)['last_hidden_state'][:, 0].detach().cpu()\n",
    "                )))\n",
    "            encoding.to('cpu')\n",
    "            del encoding\n",
    "                \n",
    "        train_df.insert(len(train_df.columns), 'image_vec', img_vecs)\n",
    "        \n",
    "        img_vecs = []\n",
    "        img_ids = []\n",
    "        img_model.eval()\n",
    "        img_model.to(device)\n",
    "        for img_id in os.listdir(\"test\"):\n",
    "            img = Image.open(\"test/{}\".format(img_id))\n",
    "            img = img.convert('RGB')\n",
    "            encoding = feature_extractor(images=img, return_tensors='pt').to(device)\n",
    "            img_vecs.append(\n",
    "                np.squeeze(np.array(\n",
    "                    img_model(**encoding)['last_hidden_state'][:, 0].detach().cpu()\n",
    "                )))\n",
    "            img_ids.append(int(img_id[:-4]))\n",
    "            encoding.to('cpu')\n",
    "            del encoding\n",
    "        \n",
    "        test_df.insert(len(test_df.columns), 'object_img', img_ids)\n",
    "        test_df.insert(len(test_df.columns), 'image_vec', img_vecs)        \n",
    "        \n",
    "        img_model.to('cpu')\n",
    "        del img_model\n",
    "        \n",
    "        #векторизация текста\n",
    "        txt_vecs = []\n",
    "        txt_model.eval()\n",
    "        txt_model.to(device)\n",
    "        for txt in train_df['description']:\n",
    "            vec = tokenizer(txt, max_length = 128, padding = 'max_length', \n",
    "                            truncation = True, return_tensors='pt').to(device)\n",
    "            txt_vecs.append(\n",
    "                np.squeeze(np.array(\n",
    "                    txt_model(**vec)['last_hidden_state'][:, 0].detach().cpu()\n",
    "                )))\n",
    "            vec.to('cpu')\n",
    "            del vec\n",
    "                \n",
    "        train_df.insert(len(train_df.columns), 'text_vec', txt_vecs)\n",
    "        \n",
    "        txt_vecs = []\n",
    "        txt_model.eval()\n",
    "        txt_model.to(device)\n",
    "        for txt in test_df['description']:\n",
    "            vec = tokenizer(txt, max_length = 128, padding = 'max_length', \n",
    "                            truncation = True, return_tensors='pt').to(device)\n",
    "            txt_vecs.append(\n",
    "                np.squeeze(np.array(\n",
    "                    txt_model(**vec)['last_hidden_state'][:, 0].detach().cpu()\n",
    "                )))\n",
    "            vec.to('cpu')\n",
    "            del vec\n",
    "        \n",
    "        test_df.insert(len(test_df.columns), 'text_vec', txt_vecs)\n",
    "        \n",
    "        txt_model.to('cpu')\n",
    "        del txt_model\n",
    "        \n",
    "        return cls(train_df, test_df)\n",
    "\n",
    "    def set_split(self, split=\"train\"):\n",
    "        \"\"\"Выбор фрагментов набора данных по столбцу из объекта dataframe\n",
    "        Аргументы:\n",
    "            split (str): \"train\"/\"val\"/\"test\"\n",
    "        \"\"\"\n",
    "        self._target_split = split\n",
    "        self._target_df, self._target_size = self._lookup_dict[self._target_split]\n",
    "\n",
    "    def __getitem__(self, idx):\n",
    "        row = self._target_df.iloc[idx]\n",
    "        \n",
    "        return {\"txt\": row['text_vec'],\n",
    "                \"img\": row['image_vec'],\n",
    "                \"img_id\": row['object_img'],\n",
    "                \"txt_id\": row['id']}\n",
    "\n",
    "    def __len__(self):\n",
    "        return self._target_size"
   ]
  },
  {
   "cell_type": "code",
   "execution_count": 10,
   "metadata": {},
   "outputs": [
    {
     "name": "stderr",
     "output_type": "stream",
     "text": [
      "Some weights of the model checkpoint at DeepPavlov/rubert-base-cased were not used when initializing BertModel: ['cls.predictions.transform.dense.bias', 'cls.predictions.transform.LayerNorm.weight', 'cls.predictions.transform.dense.weight', 'cls.predictions.decoder.bias', 'cls.predictions.decoder.weight', 'cls.seq_relationship.weight', 'cls.predictions.bias', 'cls.predictions.transform.LayerNorm.bias', 'cls.seq_relationship.bias']\n",
      "- This IS expected if you are initializing BertModel from the checkpoint of a model trained on another task or with another architecture (e.g. initializing a BertForSequenceClassification model from a BertForPreTraining model).\n",
      "- This IS NOT expected if you are initializing BertModel from the checkpoint of a model that you expect to be exactly identical (initializing a BertForSequenceClassification model from a BertForSequenceClassification model).\n"
     ]
    }
   ],
   "source": [
    "tokenizer = AutoTokenizer.from_pretrained(\"DeepPavlov/rubert-base-cased\")\n",
    "txt_model = AutoModel.from_pretrained(\"DeepPavlov/rubert-base-cased\")\n",
    "\n",
    "feature_extractor = ViTFeatureExtractor.from_pretrained('google/vit-base-patch16-224')\n",
    "img_model = ViTModel.from_pretrained('google/vit-base-patch16-224-in21k')"
   ]
  },
  {
   "cell_type": "code",
   "execution_count": 11,
   "metadata": {},
   "outputs": [
    {
     "data": {
      "text/html": [
       "<div>\n",
       "<style scoped>\n",
       "    .dataframe tbody tr th:only-of-type {\n",
       "        vertical-align: middle;\n",
       "    }\n",
       "\n",
       "    .dataframe tbody tr th {\n",
       "        vertical-align: top;\n",
       "    }\n",
       "\n",
       "    .dataframe thead th {\n",
       "        text-align: right;\n",
       "    }\n",
       "</style>\n",
       "<table border=\"1\" class=\"dataframe\">\n",
       "  <thead>\n",
       "    <tr style=\"text-align: right;\">\n",
       "      <th></th>\n",
       "      <th>id</th>\n",
       "      <th>description</th>\n",
       "      <th>object_img</th>\n",
       "      <th>image_vec</th>\n",
       "      <th>text_vec</th>\n",
       "    </tr>\n",
       "  </thead>\n",
       "  <tbody>\n",
       "    <tr>\n",
       "      <th>0</th>\n",
       "      <td>520</td>\n",
       "      <td>Фотография. Г. Пермь. Здание горисполкома.  ПО...</td>\n",
       "      <td>799</td>\n",
       "      <td>[0.103668034, -0.015063661, -0.016073922, 0.11...</td>\n",
       "      <td>[0.08067136, -0.08095811, -0.32000762, 0.01341...</td>\n",
       "    </tr>\n",
       "    <tr>\n",
       "      <th>1</th>\n",
       "      <td>1817</td>\n",
       "      <td>Фотонегатив пленочный. Труппа театра «У моста»...</td>\n",
       "      <td>854</td>\n",
       "      <td>[-0.24575898, -0.24284588, 0.045937497, 0.3451...</td>\n",
       "      <td>[0.22202191, -0.044875465, -0.023288388, -0.19...</td>\n",
       "    </tr>\n",
       "    <tr>\n",
       "      <th>2</th>\n",
       "      <td>188</td>\n",
       "      <td>Изразец гладкий расписной \"пермский\"- карниз А...</td>\n",
       "      <td>1794</td>\n",
       "      <td>[0.18985553, -0.33419284, 0.21572828, -0.09138...</td>\n",
       "      <td>[0.24180464, -0.08063073, 0.23322548, -0.23405...</td>\n",
       "    </tr>\n",
       "    <tr>\n",
       "      <th>3</th>\n",
       "      <td>1472</td>\n",
       "      <td>Фотонегатив пленочный. Серебряная чаша из Хоре...</td>\n",
       "      <td>526</td>\n",
       "      <td>[-0.2634475, -0.308959, 0.11753492, -0.2709597...</td>\n",
       "      <td>[0.3505719, -0.16521649, 0.36884767, -0.053718...</td>\n",
       "    </tr>\n",
       "    <tr>\n",
       "      <th>4</th>\n",
       "      <td>1664</td>\n",
       "      <td>Фотонегатив стеклянный. Этнография коми-пермяк...</td>\n",
       "      <td>244</td>\n",
       "      <td>[0.04096296, 0.118398026, -0.15346594, 0.17163...</td>\n",
       "      <td>[0.20113145, -0.20383996, 0.29824924, 0.133582...</td>\n",
       "    </tr>\n",
       "  </tbody>\n",
       "</table>\n",
       "</div>"
      ],
      "text/plain": [
       "     id                                        description  object_img  \\\n",
       "0   520  Фотография. Г. Пермь. Здание горисполкома.  ПО...         799   \n",
       "1  1817  Фотонегатив пленочный. Труппа театра «У моста»...         854   \n",
       "2   188  Изразец гладкий расписной \"пермский\"- карниз А...        1794   \n",
       "3  1472  Фотонегатив пленочный. Серебряная чаша из Хоре...         526   \n",
       "4  1664  Фотонегатив стеклянный. Этнография коми-пермяк...         244   \n",
       "\n",
       "                                           image_vec  \\\n",
       "0  [0.103668034, -0.015063661, -0.016073922, 0.11...   \n",
       "1  [-0.24575898, -0.24284588, 0.045937497, 0.3451...   \n",
       "2  [0.18985553, -0.33419284, 0.21572828, -0.09138...   \n",
       "3  [-0.2634475, -0.308959, 0.11753492, -0.2709597...   \n",
       "4  [0.04096296, 0.118398026, -0.15346594, 0.17163...   \n",
       "\n",
       "                                            text_vec  \n",
       "0  [0.08067136, -0.08095811, -0.32000762, 0.01341...  \n",
       "1  [0.22202191, -0.044875465, -0.023288388, -0.19...  \n",
       "2  [0.24180464, -0.08063073, 0.23322548, -0.23405...  \n",
       "3  [0.3505719, -0.16521649, 0.36884767, -0.053718...  \n",
       "4  [0.20113145, -0.20383996, 0.29824924, 0.133582...  "
      ]
     },
     "execution_count": 11,
     "metadata": {},
     "output_type": "execute_result"
    }
   ],
   "source": [
    "dataset = Text2ImageDataset.load_dataset(tokenizer, feature_extractor, \n",
    "                                         img_model, txt_model)\n",
    "dataset.train_df.head()"
   ]
  },
  {
   "cell_type": "code",
   "execution_count": 12,
   "metadata": {},
   "outputs": [
    {
     "data": {
      "text/html": [
       "<div>\n",
       "<style scoped>\n",
       "    .dataframe tbody tr th:only-of-type {\n",
       "        vertical-align: middle;\n",
       "    }\n",
       "\n",
       "    .dataframe tbody tr th {\n",
       "        vertical-align: top;\n",
       "    }\n",
       "\n",
       "    .dataframe thead th {\n",
       "        text-align: right;\n",
       "    }\n",
       "</style>\n",
       "<table border=\"1\" class=\"dataframe\">\n",
       "  <thead>\n",
       "    <tr style=\"text-align: right;\">\n",
       "      <th></th>\n",
       "      <th>id</th>\n",
       "      <th>description</th>\n",
       "      <th>object_img</th>\n",
       "      <th>image_vec</th>\n",
       "      <th>text_vec</th>\n",
       "    </tr>\n",
       "  </thead>\n",
       "  <tbody>\n",
       "    <tr>\n",
       "      <th>0</th>\n",
       "      <td>486</td>\n",
       "      <td>Фотография. Елизавета Алексеевна Юманова.  ПКМ...</td>\n",
       "      <td>1002</td>\n",
       "      <td>[-0.018491829, 0.012447446, -0.011537282, 0.09...</td>\n",
       "      <td>[0.20602532, -0.0075206566, -0.08344607, 0.088...</td>\n",
       "    </tr>\n",
       "    <tr>\n",
       "      <th>1</th>\n",
       "      <td>813</td>\n",
       "      <td>Фотография. Заседание комитета комсомола мотор...</td>\n",
       "      <td>1005</td>\n",
       "      <td>[0.041885503, 0.20836398, -0.27797422, -0.0293...</td>\n",
       "      <td>[0.056039162, 0.064530075, -0.15065418, -0.013...</td>\n",
       "    </tr>\n",
       "    <tr>\n",
       "      <th>2</th>\n",
       "      <td>2980</td>\n",
       "      <td>Фотография. День \"Саланга\".  ПОКМ-18530/638 фо...</td>\n",
       "      <td>101</td>\n",
       "      <td>[0.22351311, -0.10364469, 0.082243726, 0.03772...</td>\n",
       "      <td>[-0.16495973, -0.082818106, -0.10660107, -0.01...</td>\n",
       "    </tr>\n",
       "    <tr>\n",
       "      <th>3</th>\n",
       "      <td>13</td>\n",
       "      <td>Фотография. Елизавета Алексеевна Юманова.  ПКМ...</td>\n",
       "      <td>1011</td>\n",
       "      <td>[-0.22248544, -0.082798034, 0.27187175, -0.019...</td>\n",
       "      <td>[0.20947313, -0.0038510114, -0.09402984, 0.099...</td>\n",
       "    </tr>\n",
       "    <tr>\n",
       "      <th>4</th>\n",
       "      <td>2467</td>\n",
       "      <td>Фотография. \"Универмаг Пермь. Оформление демон...</td>\n",
       "      <td>1014</td>\n",
       "      <td>[0.089719675, -0.10408112, -0.018355599, -0.08...</td>\n",
       "      <td>[-0.24177192, -0.09324892, -0.25142977, -0.215...</td>\n",
       "    </tr>\n",
       "  </tbody>\n",
       "</table>\n",
       "</div>"
      ],
      "text/plain": [
       "     id                                        description  object_img  \\\n",
       "0   486  Фотография. Елизавета Алексеевна Юманова.  ПКМ...        1002   \n",
       "1   813  Фотография. Заседание комитета комсомола мотор...        1005   \n",
       "2  2980  Фотография. День \"Саланга\".  ПОКМ-18530/638 фо...         101   \n",
       "3    13  Фотография. Елизавета Алексеевна Юманова.  ПКМ...        1011   \n",
       "4  2467  Фотография. \"Универмаг Пермь. Оформление демон...        1014   \n",
       "\n",
       "                                           image_vec  \\\n",
       "0  [-0.018491829, 0.012447446, -0.011537282, 0.09...   \n",
       "1  [0.041885503, 0.20836398, -0.27797422, -0.0293...   \n",
       "2  [0.22351311, -0.10364469, 0.082243726, 0.03772...   \n",
       "3  [-0.22248544, -0.082798034, 0.27187175, -0.019...   \n",
       "4  [0.089719675, -0.10408112, -0.018355599, -0.08...   \n",
       "\n",
       "                                            text_vec  \n",
       "0  [0.20602532, -0.0075206566, -0.08344607, 0.088...  \n",
       "1  [0.056039162, 0.064530075, -0.15065418, -0.013...  \n",
       "2  [-0.16495973, -0.082818106, -0.10660107, -0.01...  \n",
       "3  [0.20947313, -0.0038510114, -0.09402984, 0.099...  \n",
       "4  [-0.24177192, -0.09324892, -0.25142977, -0.215...  "
      ]
     },
     "execution_count": 12,
     "metadata": {},
     "output_type": "execute_result"
    }
   ],
   "source": [
    "dataset.test_df.head()"
   ]
  },
  {
   "cell_type": "code",
   "execution_count": 8,
   "metadata": {},
   "outputs": [],
   "source": [
    "def generate_batches(dataset, batch_size, shuffle=True, \n",
    "                     drop_last=True, device=\"cpu\"):\n",
    "    \"\"\"\n",
    "        Функция-генератор - адаптер для объекта Dataloader фреймворка PyTorch.\n",
    "        Гарантирует размещение всех тензоров на нужном устройстве.\n",
    "    \"\"\"\n",
    "    dataloader = DataLoader(dataset=dataset, batch_size=batch_size, \n",
    "                            shuffle=shuffle, drop_last=drop_last)\n",
    "    for data_dict in dataloader:\n",
    "        out_data_dict = {}\n",
    "        for name, tensor in data_dict.items():\n",
    "            out_data_dict[name] = data_dict[name].to(device)\n",
    "        yield out_data_dict"
   ]
  },
  {
   "cell_type": "markdown",
   "metadata": {},
   "source": [
    "## Построение модели"
   ]
  },
  {
   "cell_type": "code",
   "execution_count": 6,
   "metadata": {},
   "outputs": [],
   "source": [
    "class Text2ImageModel(nn.Module):\n",
    "    def __init__(self, output_eol_dim, input_dim=768):\n",
    "        super(Text2ImageModel, self).__init__()\n",
    "        \n",
    "        self.eol_txt = nn.Sequential(\n",
    "            nn.Linear(input_dim, input_dim * 2),\n",
    "            nn.ReLU(),\n",
    "            nn.Linear(input_dim * 2, output_eol_dim)\n",
    "        )\n",
    "        \n",
    "        self.eol_img = nn.Sequential(\n",
    "            nn.Linear(input_dim, input_dim * 2),\n",
    "            nn.ReLU(),\n",
    "            nn.Linear(input_dim * 2, output_eol_dim)\n",
    "        )\n",
    "\n",
    "        self.softmax = nn.Softmax(dim=0)\n",
    " \n",
    "    def forward(self, eol_txt_inputs, eol_img_inputs):\n",
    "        similarity = torch.inner(self.eol_txt(eol_txt_inputs),\n",
    "                                 self.eol_img(eol_img_inputs))\n",
    "        txt2img_similarity = self.softmax(similarity)\n",
    "        img2txt_similarity = self.softmax(torch.transpose(similarity, 0, 1))\n",
    "        return txt2img_similarity, img2txt_similarity"
   ]
  },
  {
   "cell_type": "code",
   "execution_count": 9,
   "metadata": {},
   "outputs": [],
   "source": [
    "class HierarchicalRetrievalLoss(nn.Module):\n",
    "    def __init__(self):\n",
    "        super(HierarchicalRetrievalLoss, self).__init__()\n",
    "        \n",
    "    def forward(self, txt2img_sims, target_imgs, img2txt_sims, target_txts):\n",
    "        loss = (F.cross_entropy(txt2img_sims, target_imgs) +\n",
    "              F.cross_entropy(img2txt_sims, target_txts)) / 2\n",
    "        return loss"
   ]
  },
  {
   "cell_type": "code",
   "execution_count": 13,
   "metadata": {},
   "outputs": [],
   "source": [
    "def compute_accuracy(ids, target, pred):\n",
    "    y_true = [ids[i] for i in target]\n",
    "    y_pred = [ids[i] for i in pred]\n",
    "    return r2_score(y_true, y_pred)"
   ]
  },
  {
   "cell_type": "code",
   "execution_count": 14,
   "metadata": {},
   "outputs": [],
   "source": [
    "def pred(prob):\n",
    "    n = len(prob)\n",
    "    pred = np.zeros(n, dtype=int)\n",
    "    for _ in range(n):\n",
    "        idx = torch.argmax(prob)\n",
    "        i = int(idx) // n\n",
    "        j = int(idx) % n\n",
    "        pred[i] = j\n",
    "        prob[i] -= 1\n",
    "        prob[:, j] -= 1\n",
    "    return pred"
   ]
  },
  {
   "cell_type": "markdown",
   "metadata": {},
   "source": [
    "## Обучение модели"
   ]
  },
  {
   "cell_type": "code",
   "execution_count": 103,
   "metadata": {},
   "outputs": [
    {
     "data": {
      "application/vnd.jupyter.widget-view+json": {
       "model_id": "8b94f11082fd4268ba7c9882e7af1f31",
       "version_major": 2,
       "version_minor": 0
      },
      "text/plain": [
       "iter:   0%|          | 0/150 [00:00<?, ?it/s]"
      ]
     },
     "metadata": {},
     "output_type": "display_data"
    }
   ],
   "source": [
    "set_seed(42)\n",
    "model = Text2ImageModel(output_eol_dim=256)\n",
    "model.to(device)\n",
    "\n",
    "loss_func = HierarchicalRetrievalLoss()\n",
    "optimizer = optim.AdamW(model.parameters(), lr=9e-5)\n",
    "epoch = 150\n",
    "batch_size = 32\n",
    "flag = True\n",
    "        \n",
    "train_loss = []\n",
    "train_acc = []\n",
    "val_loss = []\n",
    "val_acc = []\n",
    "\n",
    "for _ in trange(epoch, desc='iter'):\n",
    "    dataset.set_split('train')\n",
    "    batch_generator = generate_batches(dataset, batch_size=batch_size, device=device)\n",
    "    \n",
    "    running_loss = 0.0\n",
    "    running_acc = 0.0\n",
    "    model.train()\n",
    "\n",
    "    for idx, batch in enumerate(batch_generator):\n",
    "        optimizer.zero_grad()\n",
    "\n",
    "        t2i_sims, i2t_sims = model(batch[\"txt\"], batch[\"img\"])\n",
    "        loss = loss_func(t2i_sims, torch.arange(len(batch[\"txt\"])).to(device), \n",
    "                         i2t_sims, torch.arange(len(batch[\"img\"])).to(device))\n",
    "            \n",
    "        loss_batch = loss.item()\n",
    "        running_loss += (loss_batch - running_loss) / (idx + 1)\n",
    "        \n",
    "        acc_batch = compute_accuracy(batch['img_id'].cpu(),\n",
    "                                     torch.arange(len(batch[\"img\"])),\n",
    "                                     pred(t2i_sims.cpu()))\n",
    "        running_acc += (acc_batch - running_acc) / (idx + 1)\n",
    "        \n",
    "        loss.backward()\n",
    "        optimizer.step()\n",
    "\n",
    "    train_loss.append(running_loss)\n",
    "    train_acc.append(running_acc)\n",
    "\n",
    "    dataset.set_split('val')\n",
    "    batch_generator = generate_batches(dataset, batch_size=len(dataset),\n",
    "                                       shuffle=False, drop_last=False, \n",
    "                                       device=device)\n",
    "    \n",
    "    running_loss = 0.0\n",
    "    running_acc = 0.0\n",
    "    model.eval()\n",
    "\n",
    "    for idx, batch in enumerate(batch_generator):\n",
    "\n",
    "        t2i_sims, i2t_sims = model(batch[\"txt\"], batch[\"img\"])\n",
    "        loss = loss_func(t2i_sims, torch.arange(len(batch[\"txt\"])).to(device), \n",
    "                         i2t_sims, torch.arange(len(batch[\"img\"])).to(device))\n",
    "            \n",
    "        loss_batch = loss.item()\n",
    "        running_loss += (loss_batch - running_loss) / (idx + 1)\n",
    "        \n",
    "        acc_batch = compute_accuracy(batch['img_id'].cpu(),\n",
    "                                     torch.arange(len(batch[\"img\"])),\n",
    "                                     pred(t2i_sims.cpu()))\n",
    "        running_acc += (acc_batch - running_acc) / (idx + 1)\n",
    "\n",
    "    val_loss.append(running_loss)\n",
    "    val_acc.append(running_acc)\n",
    "    \n",
    "    if running_acc > 0.8 and flag:\n",
    "        optimizer = optim.SGD(model.parameters(), lr=5e-6)\n",
    "        flag = False"
   ]
  },
  {
   "cell_type": "code",
   "execution_count": 104,
   "metadata": {
    "scrolled": true
   },
   "outputs": [
    {
     "data": {
      "image/png": "[encoded data removed]",
      "text/plain": [
       "<Figure size 1080x432 with 2 Axes>"
      ]
     },
     "metadata": {
      "needs_background": "light"
     },
     "output_type": "display_data"
    }
   ],
   "source": [
    "fig, ax = plt.subplots(1, 2, figsize=(15, 6), )\n",
    "\n",
    "ax[0].plot(np.arange(len(train_loss)), train_loss, label='train')\n",
    "ax[0].plot(np.arange(len(val_loss)), val_loss, label='val')\n",
    "\n",
    "ax[1].plot(np.arange(len(train_acc)), train_acc, label='train')\n",
    "ax[1].plot(np.arange(len(val_acc)), val_acc, label='val')\n",
    "    \n",
    "ax[0].set_xlabel('Количество эпох обучения')\n",
    "ax[1].set_xlabel('Количество эпох обучения')\n",
    "\n",
    "ax[0].set_title('Loss')\n",
    "ax[1].set_title('Accuracy')\n",
    "\n",
    "ax[0].legend()\n",
    "ax[1].legend()\n",
    "ax[0].grid(True)\n",
    "ax[1].grid(True)\n",
    "\n",
    "fig.tight_layout()\n",
    "plt.show()"
   ]
  },
  {
   "cell_type": "markdown",
   "metadata": {},
   "source": [
    "## Вычисление результата"
   ]
  },
  {
   "cell_type": "code",
   "execution_count": 105,
   "metadata": {},
   "outputs": [],
   "source": [
    "dataset.set_split('test')\n",
    "batch_generator = generate_batches(dataset, batch_size=len(dataset),\n",
    "                                   shuffle=False, drop_last=False,\n",
    "                                   device=device)\n",
    "subm_df = pd.DataFrame()\n",
    "model.eval()\n",
    "\n",
    "for idx, batch in enumerate(batch_generator):\n",
    "\n",
    "    t2i_sims, i2t_sims = model(batch[\"txt\"], batch[\"img\"])\n",
    "    img_ids = np.array(batch['img_id'].detach().cpu())\n",
    "    subm_df.insert(len(subm_df.columns), 'id', batch['txt_id'].detach().cpu())\n",
    "    subm_df.insert(len(subm_df.columns), 'object_img', [img_ids[i] for i in pred(t2i_sims.cpu())])"
   ]
  },
  {
   "cell_type": "code",
   "execution_count": 72,
   "metadata": {},
   "outputs": [
    {
     "data": {
      "text/html": [
       "<div>\n",
       "<style scoped>\n",
       "    .dataframe tbody tr th:only-of-type {\n",
       "        vertical-align: middle;\n",
       "    }\n",
       "\n",
       "    .dataframe tbody tr th {\n",
       "        vertical-align: top;\n",
       "    }\n",
       "\n",
       "    .dataframe thead th {\n",
       "        text-align: right;\n",
       "    }\n",
       "</style>\n",
       "<table border=\"1\" class=\"dataframe\">\n",
       "  <thead>\n",
       "    <tr style=\"text-align: right;\">\n",
       "      <th></th>\n",
       "      <th>id</th>\n",
       "      <th>object_img</th>\n",
       "    </tr>\n",
       "  </thead>\n",
       "  <tbody>\n",
       "    <tr>\n",
       "      <th>0</th>\n",
       "      <td>486</td>\n",
       "      <td>1389</td>\n",
       "    </tr>\n",
       "    <tr>\n",
       "      <th>1</th>\n",
       "      <td>813</td>\n",
       "      <td>1651</td>\n",
       "    </tr>\n",
       "    <tr>\n",
       "      <th>2</th>\n",
       "      <td>2980</td>\n",
       "      <td>611</td>\n",
       "    </tr>\n",
       "    <tr>\n",
       "      <th>3</th>\n",
       "      <td>13</td>\n",
       "      <td>1534</td>\n",
       "    </tr>\n",
       "    <tr>\n",
       "      <th>4</th>\n",
       "      <td>2467</td>\n",
       "      <td>365</td>\n",
       "    </tr>\n",
       "  </tbody>\n",
       "</table>\n",
       "</div>"
      ],
      "text/plain": [
       "     id  object_img\n",
       "0   486        1389\n",
       "1   813        1651\n",
       "2  2980         611\n",
       "3    13        1534\n",
       "4  2467         365"
      ]
     },
     "execution_count": 72,
     "metadata": {},
     "output_type": "execute_result"
    }
   ],
   "source": [
    "subm_df.to_csv('submission5.csv', index=False)\n",
    "subm_df.head()"
   ]
  },
  {
   "cell_type": "code",
   "execution_count": 109,
   "metadata": {},
   "outputs": [
    {
     "name": "stdout",
     "output_type": "stream",
     "text": [
      "Фотонегатив стеклянный. Группа людей на природе. ДИ/Н-1247 ПОКМ-11572/133 фотосъемка,стекло     Изображение хаотично стоящих и сидящих возле куста и на поляне людей.\n",
      "[928, 930, 455, 926, 228, 949, 1292, 923, 193, 618]\n"
     ]
    }
   ],
   "source": [
    "first_txt_sims = np.copy(t2i_sims[20].detach().cpu())\n",
    "img_ids = batch['img_id'].detach().cpu()\n",
    "img_ids_top = []\n",
    "for _ in range(10):\n",
    "    i = int(np.argmax(first_txt_sims))\n",
    "    img_ids_top.append(int(img_ids[i]))\n",
    "    first_txt_sims[i] = 0\n",
    "print(df_test[\"description\"][20])\n",
    "print(img_ids_top)"
   ]
  },
  {
   "cell_type": "markdown",
   "metadata": {},
   "source": [
    "## Эксперименты"
   ]
  },
  {
   "cell_type": "markdown",
   "metadata": {},
   "source": [
    "### LR AdamW"
   ]
  },
  {
   "cell_type": "code",
   "execution_count": 38,
   "metadata": {},
   "outputs": [
    {
     "data": {
      "application/vnd.jupyter.widget-view+json": {
       "model_id": "eb3861f4d05b4b32aba1aa6a1f94c2ac",
       "version_major": 2,
       "version_minor": 0
      },
      "text/plain": [
       "iter:   0%|          | 0/200 [00:00<?, ?it/s]"
      ]
     },
     "metadata": {},
     "output_type": "display_data"
    },
    {
     "data": {
      "application/vnd.jupyter.widget-view+json": {
       "model_id": "da6608d01de54896ad09f0b05afaa31b",
       "version_major": 2,
       "version_minor": 0
      },
      "text/plain": [
       "iter:   0%|          | 0/200 [00:00<?, ?it/s]"
      ]
     },
     "metadata": {},
     "output_type": "display_data"
    },
    {
     "data": {
      "application/vnd.jupyter.widget-view+json": {
       "model_id": "ca3ea358107544489b2e77e1183c45be",
       "version_major": 2,
       "version_minor": 0
      },
      "text/plain": [
       "iter:   0%|          | 0/200 [00:00<?, ?it/s]"
      ]
     },
     "metadata": {},
     "output_type": "display_data"
    },
    {
     "data": {
      "application/vnd.jupyter.widget-view+json": {
       "model_id": "973a7d1d0cfd4837af5af31b24a857dc",
       "version_major": 2,
       "version_minor": 0
      },
      "text/plain": [
       "iter:   0%|          | 0/200 [00:00<?, ?it/s]"
      ]
     },
     "metadata": {},
     "output_type": "display_data"
    },
    {
     "data": {
      "application/vnd.jupyter.widget-view+json": {
       "model_id": "acb35a38b93f47b58f7e1a64223854c1",
       "version_major": 2,
       "version_minor": 0
      },
      "text/plain": [
       "iter:   0%|          | 0/200 [00:00<?, ?it/s]"
      ]
     },
     "metadata": {},
     "output_type": "display_data"
    },
    {
     "data": {
      "application/vnd.jupyter.widget-view+json": {
       "model_id": "7c06b8bb7ba048cebf0c102887421768",
       "version_major": 2,
       "version_minor": 0
      },
      "text/plain": [
       "iter:   0%|          | 0/200 [00:00<?, ?it/s]"
      ]
     },
     "metadata": {},
     "output_type": "display_data"
    },
    {
     "data": {
      "application/vnd.jupyter.widget-view+json": {
       "model_id": "c3e20910324a4d818b159e551da0b522",
       "version_major": 2,
       "version_minor": 0
      },
      "text/plain": [
       "iter:   0%|          | 0/200 [00:00<?, ?it/s]"
      ]
     },
     "metadata": {},
     "output_type": "display_data"
    },
    {
     "data": {
      "application/vnd.jupyter.widget-view+json": {
       "model_id": "e65c2b4078de401e85e4d005216a3790",
       "version_major": 2,
       "version_minor": 0
      },
      "text/plain": [
       "iter:   0%|          | 0/200 [00:00<?, ?it/s]"
      ]
     },
     "metadata": {},
     "output_type": "display_data"
    },
    {
     "data": {
      "application/vnd.jupyter.widget-view+json": {
       "model_id": "79e6640475764dff91aa16d63544293f",
       "version_major": 2,
       "version_minor": 0
      },
      "text/plain": [
       "iter:   0%|          | 0/200 [00:00<?, ?it/s]"
      ]
     },
     "metadata": {},
     "output_type": "display_data"
    },
    {
     "data": {
      "application/vnd.jupyter.widget-view+json": {
       "model_id": "2574ba4df506492b93c3935ac8d41443",
       "version_major": 2,
       "version_minor": 0
      },
      "text/plain": [
       "iter:   0%|          | 0/200 [00:00<?, ?it/s]"
      ]
     },
     "metadata": {},
     "output_type": "display_data"
    },
    {
     "data": {
      "application/vnd.jupyter.widget-view+json": {
       "model_id": "4080b2f9435a404b8ad29321f49a017d",
       "version_major": 2,
       "version_minor": 0
      },
      "text/plain": [
       "iter:   0%|          | 0/200 [00:00<?, ?it/s]"
      ]
     },
     "metadata": {},
     "output_type": "display_data"
    },
    {
     "data": {
      "application/vnd.jupyter.widget-view+json": {
       "model_id": "1aff57d52c5e4ed49662c8f561958b5b",
       "version_major": 2,
       "version_minor": 0
      },
      "text/plain": [
       "iter:   0%|          | 0/200 [00:00<?, ?it/s]"
      ]
     },
     "metadata": {},
     "output_type": "display_data"
    },
    {
     "data": {
      "application/vnd.jupyter.widget-view+json": {
       "model_id": "7166ab20f5d44b15a35ad4f54bad3b90",
       "version_major": 2,
       "version_minor": 0
      },
      "text/plain": [
       "iter:   0%|          | 0/200 [00:00<?, ?it/s]"
      ]
     },
     "metadata": {},
     "output_type": "display_data"
    }
   ],
   "source": [
    "max_acc = []\n",
    "for lr in [1e-6, 5e-6, 1e-5, 2e-5, 3e-5, 4e-5, 5e-5, 6e-5, 7e-5, 8e-5, 9e-5, 1e-4, 5e-4]:\n",
    "    set_seed(42)\n",
    "    model = Text2ImageModel(output_eol_dim=256)\n",
    "    model.to(device)\n",
    "\n",
    "    loss_func = HierarchicalRetrievalLoss()\n",
    "    optimizer = optim.AdamW(model.parameters(), lr=lr)\n",
    "    epoch = 200\n",
    "    batch_size = 32\n",
    "    flag = True\n",
    "\n",
    "    train_loss = []\n",
    "    train_acc = []\n",
    "    val_loss = []\n",
    "    val_acc = []\n",
    "\n",
    "    for _ in trange(epoch, desc='iter'):\n",
    "        dataset.set_split('train')\n",
    "        batch_generator = generate_batches(dataset, batch_size=batch_size, device=device)\n",
    "\n",
    "        running_loss = 0.0\n",
    "        running_acc = 0.0\n",
    "        model.train()\n",
    "\n",
    "        for idx, batch in enumerate(batch_generator):\n",
    "            optimizer.zero_grad()\n",
    "\n",
    "            t2i_sims, i2t_sims = model(batch[\"txt\"], batch[\"img\"])\n",
    "            loss = loss_func(t2i_sims, torch.arange(len(batch[\"txt\"])).to(device), \n",
    "                             i2t_sims, torch.arange(len(batch[\"img\"])).to(device))\n",
    "\n",
    "            loss_batch = loss.item()\n",
    "            running_loss += (loss_batch - running_loss) / (idx + 1)\n",
    "\n",
    "            acc_batch = compute_accuracy(batch['img_id'].cpu(),\n",
    "                                         torch.arange(len(batch[\"img\"])),\n",
    "                                         pred(t2i_sims.cpu()))\n",
    "            running_acc += (acc_batch - running_acc) / (idx + 1)\n",
    "\n",
    "            loss.backward()\n",
    "            optimizer.step()\n",
    "\n",
    "        train_loss.append(running_loss)\n",
    "        train_acc.append(running_acc)\n",
    "\n",
    "        dataset.set_split('val')\n",
    "        batch_generator = generate_batches(dataset, batch_size=len(dataset),\n",
    "                                           shuffle=False, drop_last=False, \n",
    "                                           device=device)\n",
    "\n",
    "        running_loss = 0.0\n",
    "        running_acc = 0.0\n",
    "        model.eval()\n",
    "\n",
    "        for idx, batch in enumerate(batch_generator):\n",
    "\n",
    "            t2i_sims, i2t_sims = model(batch[\"txt\"], batch[\"img\"])\n",
    "            loss = loss_func(t2i_sims, torch.arange(len(batch[\"txt\"])).to(device), \n",
    "                             i2t_sims, torch.arange(len(batch[\"img\"])).to(device))\n",
    "\n",
    "            loss_batch = loss.item()\n",
    "            running_loss += (loss_batch - running_loss) / (idx + 1)\n",
    "\n",
    "            acc_batch = compute_accuracy(batch['img_id'].cpu(),\n",
    "                                         torch.arange(len(batch[\"img\"])),\n",
    "                                         pred(t2i_sims.cpu()))\n",
    "            running_acc += (acc_batch - running_acc) / (idx + 1)\n",
    "\n",
    "        val_loss.append(running_loss)\n",
    "        val_acc.append(running_acc)\n",
    "        \n",
    "    i = np.argmax(val_acc)\n",
    "    max_acc.append((i, val_acc[i]))"
   ]
  },
  {
   "cell_type": "code",
   "execution_count": 40,
   "metadata": {},
   "outputs": [
    {
     "data": {
      "image/png": "[encoded data removed]",
      "text/plain": [
       "<Figure size 576x432 with 1 Axes>"
      ]
     },
     "metadata": {
      "needs_background": "light"
     },
     "output_type": "display_data"
    }
   ],
   "source": [
    "fig, ax = plt.subplots(1, figsize=(8, 6))\n",
    "\n",
    "ax.plot([1e-6, 5e-6, 1e-5, 2e-5, 3e-5, 4e-5, 5e-5, 6e-5, 7e-5, 8e-5, 9e-5, 1e-4, 5e-4], \n",
    "        np.array(max_acc)[:, 1], lw=4)\n",
    "    \n",
    "ax.set_xlabel('lr', fontsize=28)\n",
    "ax.set_ylabel('max_accuracy', fontsize=28)\n",
    "\n",
    "#ax.legend()\n",
    "ax.set_xscale('log')\n",
    "ax.grid(True)\n",
    "\n",
    "ax.tick_params(labelsize=24, length=10, width=1)\n",
    "ax.tick_params(which='minor', length=5, width=1)\n",
    "\n",
    "fig.tight_layout()\n",
    "plt.show()"
   ]
  },
  {
   "cell_type": "code",
   "execution_count": 41,
   "metadata": {},
   "outputs": [
    {
     "name": "stdout",
     "output_type": "stream",
     "text": [
      "[(142, 0.6506301688428096), (133, 0.7713642360133314), (84, 0.7916564163385647), (49, 0.7609201815516379), (40, 0.7663224570947877), (35, 0.8024319619493214), (58, 0.7850417027605016), (21, 0.8147038535704823), (20, 0.797198694238213), (15, 0.8080111434216417), (19, 0.8320012586087082), (17, 0.8011399019381347), (2, 0.477954906908893)]\n"
     ]
    }
   ],
   "source": [
    "print(max_acc)"
   ]
  },
  {
   "cell_type": "markdown",
   "metadata": {},
   "source": [
    "### LR SGD"
   ]
  },
  {
   "cell_type": "code",
   "execution_count": 101,
   "metadata": {},
   "outputs": [
    {
     "data": {
      "application/vnd.jupyter.widget-view+json": {
       "model_id": "a8e8862dbf234f59a10da975d2328970",
       "version_major": 2,
       "version_minor": 0
      },
      "text/plain": [
       "iter:   0%|          | 0/150 [00:00<?, ?it/s]"
      ]
     },
     "metadata": {},
     "output_type": "display_data"
    },
    {
     "data": {
      "application/vnd.jupyter.widget-view+json": {
       "model_id": "50b0c023a6c64f538b0b1c89b379847e",
       "version_major": 2,
       "version_minor": 0
      },
      "text/plain": [
       "iter:   0%|          | 0/150 [00:00<?, ?it/s]"
      ]
     },
     "metadata": {},
     "output_type": "display_data"
    },
    {
     "data": {
      "application/vnd.jupyter.widget-view+json": {
       "model_id": "eb9d65de7dd047f5bc00e202880202c1",
       "version_major": 2,
       "version_minor": 0
      },
      "text/plain": [
       "iter:   0%|          | 0/150 [00:00<?, ?it/s]"
      ]
     },
     "metadata": {},
     "output_type": "display_data"
    },
    {
     "data": {
      "application/vnd.jupyter.widget-view+json": {
       "model_id": "f9882acaded548b78441efb17426bdd8",
       "version_major": 2,
       "version_minor": 0
      },
      "text/plain": [
       "iter:   0%|          | 0/150 [00:00<?, ?it/s]"
      ]
     },
     "metadata": {},
     "output_type": "display_data"
    },
    {
     "data": {
      "application/vnd.jupyter.widget-view+json": {
       "model_id": "8fb3a2eb10934b2e8cf19e90397e886b",
       "version_major": 2,
       "version_minor": 0
      },
      "text/plain": [
       "iter:   0%|          | 0/150 [00:00<?, ?it/s]"
      ]
     },
     "metadata": {},
     "output_type": "display_data"
    },
    {
     "data": {
      "application/vnd.jupyter.widget-view+json": {
       "model_id": "1e8b6ab7b9f845fe930a6aa30d2ac149",
       "version_major": 2,
       "version_minor": 0
      },
      "text/plain": [
       "iter:   0%|          | 0/150 [00:00<?, ?it/s]"
      ]
     },
     "metadata": {},
     "output_type": "display_data"
    },
    {
     "data": {
      "application/vnd.jupyter.widget-view+json": {
       "model_id": "e10a09eb2d7345b5b0691c162a926f59",
       "version_major": 2,
       "version_minor": 0
      },
      "text/plain": [
       "iter:   0%|          | 0/150 [00:00<?, ?it/s]"
      ]
     },
     "metadata": {},
     "output_type": "display_data"
    },
    {
     "data": {
      "application/vnd.jupyter.widget-view+json": {
       "model_id": "d303cddd00304c01b0ee0f3e97ecc7dc",
       "version_major": 2,
       "version_minor": 0
      },
      "text/plain": [
       "iter:   0%|          | 0/150 [00:00<?, ?it/s]"
      ]
     },
     "metadata": {},
     "output_type": "display_data"
    },
    {
     "data": {
      "application/vnd.jupyter.widget-view+json": {
       "model_id": "e0b444caf18349ea9dd3f647d5f77759",
       "version_major": 2,
       "version_minor": 0
      },
      "text/plain": [
       "iter:   0%|          | 0/150 [00:00<?, ?it/s]"
      ]
     },
     "metadata": {},
     "output_type": "display_data"
    },
    {
     "data": {
      "application/vnd.jupyter.widget-view+json": {
       "model_id": "53f8ab74508246da98481d42f456cbed",
       "version_major": 2,
       "version_minor": 0
      },
      "text/plain": [
       "iter:   0%|          | 0/150 [00:00<?, ?it/s]"
      ]
     },
     "metadata": {},
     "output_type": "display_data"
    },
    {
     "data": {
      "application/vnd.jupyter.widget-view+json": {
       "model_id": "257bef11926d464ea998579830add5f4",
       "version_major": 2,
       "version_minor": 0
      },
      "text/plain": [
       "iter:   0%|          | 0/150 [00:00<?, ?it/s]"
      ]
     },
     "metadata": {},
     "output_type": "display_data"
    }
   ],
   "source": [
    "val_acc_SGD_lr = []\n",
    "for lr in [9e-7, 1e-6, 2e-6, 3e-6, 4e-6, 5e-6, 6e-6, 7e-6, 8e-6, 9e-6, 1e-5]:\n",
    "    set_seed(42)\n",
    "    model = Text2ImageModel(output_eol_dim=256)\n",
    "    model.to(device)\n",
    "\n",
    "    loss_func = HierarchicalRetrievalLoss()\n",
    "    optimizer = optim.AdamW(model.parameters(), lr=9e-5)\n",
    "    epoch = 150\n",
    "    batch_size = 32\n",
    "    flag = True\n",
    "\n",
    "    train_loss = []\n",
    "    train_acc = []\n",
    "    val_loss = []\n",
    "    val_acc = []\n",
    "\n",
    "    for _ in trange(epoch, desc='iter'):\n",
    "        dataset.set_split('train')\n",
    "        batch_generator = generate_batches(dataset, batch_size=batch_size, device=device)\n",
    "\n",
    "        running_loss = 0.0\n",
    "        running_acc = 0.0\n",
    "        model.train()\n",
    "\n",
    "        for idx, batch in enumerate(batch_generator):\n",
    "            optimizer.zero_grad()\n",
    "\n",
    "            t2i_sims, i2t_sims = model(batch[\"txt\"], batch[\"img\"])\n",
    "            loss = loss_func(t2i_sims, torch.arange(len(batch[\"txt\"])).to(device), \n",
    "                             i2t_sims, torch.arange(len(batch[\"img\"])).to(device))\n",
    "\n",
    "            loss_batch = loss.item()\n",
    "            running_loss += (loss_batch - running_loss) / (idx + 1)\n",
    "\n",
    "            acc_batch = compute_accuracy(batch['img_id'].cpu(),\n",
    "                                         torch.arange(len(batch[\"img\"])),\n",
    "                                         pred(t2i_sims.cpu()))\n",
    "            running_acc += (acc_batch - running_acc) / (idx + 1)\n",
    "\n",
    "            loss.backward()\n",
    "            optimizer.step()\n",
    "\n",
    "        train_loss.append(running_loss)\n",
    "        train_acc.append(running_acc)\n",
    "\n",
    "        dataset.set_split('val')\n",
    "        batch_generator = generate_batches(dataset, batch_size=len(dataset),\n",
    "                                           shuffle=False, drop_last=False, \n",
    "                                           device=device)\n",
    "\n",
    "        running_loss = 0.0\n",
    "        running_acc = 0.0\n",
    "        model.eval()\n",
    "\n",
    "        for idx, batch in enumerate(batch_generator):\n",
    "\n",
    "            t2i_sims, i2t_sims = model(batch[\"txt\"], batch[\"img\"])\n",
    "            loss = loss_func(t2i_sims, torch.arange(len(batch[\"txt\"])).to(device), \n",
    "                             i2t_sims, torch.arange(len(batch[\"img\"])).to(device))\n",
    "\n",
    "            loss_batch = loss.item()\n",
    "            running_loss += (loss_batch - running_loss) / (idx + 1)\n",
    "\n",
    "            acc_batch = compute_accuracy(batch['img_id'].cpu(),\n",
    "                                         torch.arange(len(batch[\"img\"])),\n",
    "                                         pred(t2i_sims.cpu()))\n",
    "            running_acc += (acc_batch - running_acc) / (idx + 1)\n",
    "\n",
    "        val_loss.append(running_loss)\n",
    "        val_acc.append(running_acc)\n",
    "        \n",
    "        if running_acc > 0.83 and flag:\n",
    "            optimizer = optim.SGD(model.parameters(), lr=lr)\n",
    "            flag = False\n",
    "            \n",
    "    val_acc_SGD_lr.append(val_acc)"
   ]
  },
  {
   "cell_type": "code",
   "execution_count": 102,
   "metadata": {},
   "outputs": [
    {
     "data": {
      "image/png": "[encoded data removed]",
      "text/plain": [
       "<Figure size 1080x432 with 2 Axes>"
      ]
     },
     "metadata": {
      "needs_background": "light"
     },
     "output_type": "display_data"
    }
   ],
   "source": [
    "fig, ax = plt.subplots(1, 2, figsize=(15, 6))\n",
    "\n",
    "lrs = [9e-7, 1e-6, 2e-6, 3e-6, 4e-6, 5e-6, 6e-6, 7e-6, 8e-6, 9e-6, 1e-5]\n",
    "\n",
    "for i in range(0, len(lrs), 2):\n",
    "    ax[0].plot(val_acc_SGD_lr[i], lw=2, label='lr={}'.format(lrs[i]))\n",
    "    \n",
    "for i in range(1, len(lrs), 2):\n",
    "    ax[1].plot(val_acc_SGD_lr[i], lw=2, label='lr={}'.format(lrs[i]))\n",
    "    \n",
    "ax[0].set_xlabel('epoch', fontsize=28)\n",
    "ax[0].set_ylabel('accuracy', fontsize=28)\n",
    "\n",
    "ax[0].legend()\n",
    "#ax.set_xscale('log')\n",
    "ax[0].grid(True)\n",
    "\n",
    "ax[0].tick_params(labelsize=24, length=10, width=1)\n",
    "ax[0].tick_params(which='minor', length=5, width=1)\n",
    "ax[0].set_ylim(bottom=0.8)\n",
    "\n",
    "ax[1].set_xlabel('epoch', fontsize=28)\n",
    "ax[1].set_ylabel('accuracy', fontsize=28)\n",
    "\n",
    "ax[1].legend()\n",
    "#ax.set_xscale('log')\n",
    "ax[1].grid(True)\n",
    "\n",
    "ax[1].tick_params(labelsize=24, length=10, width=1)\n",
    "ax[1].tick_params(which='minor', length=5, width=1)\n",
    "ax[1].set_ylim(bottom=0.8)\n",
    "\n",
    "fig.tight_layout()\n",
    "plt.show()"
   ]
  },
  {
   "cell_type": "code",
   "execution_count": 50,
   "metadata": {},
   "outputs": [
    {
     "data": {
      "application/vnd.jupyter.widget-view+json": {
       "model_id": "61fafa5158aa483da21894ad4b8c4fa6",
       "version_major": 2,
       "version_minor": 0
      },
      "text/plain": [
       "iter:   0%|          | 0/1000 [00:00<?, ?it/s]"
      ]
     },
     "metadata": {},
     "output_type": "display_data"
    },
    {
     "data": {
      "application/vnd.jupyter.widget-view+json": {
       "model_id": "72102abb944c4bfcbb1a5bca62e2e91a",
       "version_major": 2,
       "version_minor": 0
      },
      "text/plain": [
       "iter:   0%|          | 0/1000 [00:00<?, ?it/s]"
      ]
     },
     "metadata": {},
     "output_type": "display_data"
    },
    {
     "data": {
      "application/vnd.jupyter.widget-view+json": {
       "model_id": "411465eb944c444d8844a73db6040c8b",
       "version_major": 2,
       "version_minor": 0
      },
      "text/plain": [
       "iter:   0%|          | 0/1000 [00:00<?, ?it/s]"
      ]
     },
     "metadata": {},
     "output_type": "display_data"
    }
   ],
   "source": [
    "val_acc_SGD_lr2 = []\n",
    "for lr in [3e-6, 4e-6, 5e-6]:\n",
    "    set_seed(42)\n",
    "    model = Text2ImageModel(output_eol_dim=256)\n",
    "    model.to(device)\n",
    "\n",
    "    loss_func = HierarchicalRetrievalLoss()\n",
    "    optimizer = optim.AdamW(model.parameters(), lr=9e-5)\n",
    "    epoch = 1000\n",
    "    batch_size = 32\n",
    "    flag = True\n",
    "\n",
    "    train_loss = []\n",
    "    train_acc = []\n",
    "    val_loss = []\n",
    "    val_acc = []\n",
    "\n",
    "    for _ in trange(epoch, desc='iter'):\n",
    "        dataset.set_split('train')\n",
    "        batch_generator = generate_batches(dataset, batch_size=batch_size, device=device)\n",
    "\n",
    "        running_loss = 0.0\n",
    "        running_acc = 0.0\n",
    "        model.train()\n",
    "\n",
    "        for idx, batch in enumerate(batch_generator):\n",
    "            optimizer.zero_grad()\n",
    "\n",
    "            t2i_sims, i2t_sims = model(batch[\"txt\"], batch[\"img\"])\n",
    "            loss = loss_func(t2i_sims, torch.arange(len(batch[\"txt\"])).to(device), \n",
    "                             i2t_sims, torch.arange(len(batch[\"img\"])).to(device))\n",
    "\n",
    "            loss_batch = loss.item()\n",
    "            running_loss += (loss_batch - running_loss) / (idx + 1)\n",
    "\n",
    "            acc_batch = compute_accuracy(batch['img_id'].cpu(),\n",
    "                                         torch.arange(len(batch[\"img\"])),\n",
    "                                         pred(t2i_sims.cpu()))\n",
    "            running_acc += (acc_batch - running_acc) / (idx + 1)\n",
    "\n",
    "            loss.backward()\n",
    "            optimizer.step()\n",
    "\n",
    "        train_loss.append(running_loss)\n",
    "        train_acc.append(running_acc)\n",
    "\n",
    "        dataset.set_split('val')\n",
    "        batch_generator = generate_batches(dataset, batch_size=len(dataset),\n",
    "                                           shuffle=False, drop_last=False, \n",
    "                                           device=device)\n",
    "\n",
    "        running_loss = 0.0\n",
    "        running_acc = 0.0\n",
    "        model.eval()\n",
    "\n",
    "        for idx, batch in enumerate(batch_generator):\n",
    "\n",
    "            t2i_sims, i2t_sims = model(batch[\"txt\"], batch[\"img\"])\n",
    "            loss = loss_func(t2i_sims, torch.arange(len(batch[\"txt\"])).to(device), \n",
    "                             i2t_sims, torch.arange(len(batch[\"img\"])).to(device))\n",
    "\n",
    "            loss_batch = loss.item()\n",
    "            running_loss += (loss_batch - running_loss) / (idx + 1)\n",
    "\n",
    "            acc_batch = compute_accuracy(batch['img_id'].cpu(),\n",
    "                                         torch.arange(len(batch[\"img\"])),\n",
    "                                         pred(t2i_sims.cpu()))\n",
    "            running_acc += (acc_batch - running_acc) / (idx + 1)\n",
    "\n",
    "        val_loss.append(running_loss)\n",
    "        val_acc.append(running_acc)\n",
    "        \n",
    "        if running_acc > 0.83 and flag:\n",
    "            optimizer = optim.SGD(model.parameters(), lr=lr)\n",
    "            flag = False\n",
    "            \n",
    "    val_acc_SGD_lr2.append(val_acc)"
   ]
  },
  {
   "cell_type": "code",
   "execution_count": 56,
   "metadata": {},
   "outputs": [
    {
     "data": {
      "image/png": "[encoded data removed]",
      "text/plain": [
       "<Figure size 1440x432 with 1 Axes>"
      ]
     },
     "metadata": {
      "needs_background": "light"
     },
     "output_type": "display_data"
    }
   ],
   "source": [
    "fig, ax = plt.subplots(1, figsize=(20, 6))\n",
    "\n",
    "lrs = [3e-6, 4e-6, 5e-6]\n",
    "\n",
    "for i in range(len(lrs)):\n",
    "    ax.plot(val_acc_SGD_lr2[i], lw=4, label='lr={}'.format(lrs[i]))\n",
    "    \n",
    "ax.set_xlabel('epoch', fontsize=28)\n",
    "ax.set_ylabel('accuracy', fontsize=28)\n",
    "\n",
    "ax.legend()\n",
    "#ax.set_xscale('log')\n",
    "ax.grid(True)\n",
    "\n",
    "ax.tick_params(labelsize=24, length=10, width=1)\n",
    "ax.tick_params(which='minor', length=5, width=1)\n",
    "ax.set_ylim(bottom=0.78)\n",
    "\n",
    "fig.tight_layout()\n",
    "plt.show()"
   ]
  },
  {
   "cell_type": "code",
   "execution_count": null,
   "metadata": {},
   "outputs": [],
   "source": []
  }
 ],
 "metadata": {
  "colab": {
   "collapsed_sections": [],
   "provenance": []
  },
  "kernelspec": {
   "display_name": "Python 3 (ipykernel)",
   "language": "python",
   "name": "python3"
  },
  "language_info": {
   "codemirror_mode": {
    "name": "ipython",
    "version": 3
   },
   "file_extension": ".py",
   "mimetype": "text/x-python",
   "name": "python",
   "nbconvert_exporter": "python",
   "pygments_lexer": "ipython3",
   "version": "3.9.7"
  }
 },
 "nbformat": 4,
 "nbformat_minor": 1
}
